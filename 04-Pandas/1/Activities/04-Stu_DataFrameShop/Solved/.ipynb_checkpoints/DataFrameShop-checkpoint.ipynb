{
 "cells": [
  {
   "cell_type": "code",
   "execution_count": 1,
   "metadata": {
    "collapsed": true
   },
   "outputs": [],
   "source": [
    "# Import Dependencies\n",
    "import pandas as pd"
   ]
  },
  {
   "cell_type": "code",
   "execution_count": 2,
   "metadata": {},
   "outputs": [
    {
     "ename": "NameError",
     "evalue": "name 'pd' is not defined",
     "output_type": "error",
     "traceback": [
      "\u001b[1;31m---------------------------------------------------------------------------\u001b[0m",
      "\u001b[1;31mNameError\u001b[0m                                 Traceback (most recent call last)",
      "\u001b[1;32m<ipython-input-2-d2ac301f649e>\u001b[0m in \u001b[0;36m<module>\u001b[1;34m\u001b[0m\n\u001b[0;32m      1\u001b[0m \u001b[1;31m# Create a DataFrame of frames using a dictionary of lists\u001b[0m\u001b[1;33m\u001b[0m\u001b[1;33m\u001b[0m\u001b[1;33m\u001b[0m\u001b[0m\n\u001b[1;32m----> 2\u001b[1;33m frame_df = pd.DataFrame({\n\u001b[0m\u001b[0;32m      3\u001b[0m     \u001b[1;34m\"Frame\"\u001b[0m\u001b[1;33m:\u001b[0m \u001b[1;33m[\u001b[0m\u001b[1;34m\"Ornate\"\u001b[0m\u001b[1;33m,\u001b[0m \u001b[1;34m\"Classical\"\u001b[0m\u001b[1;33m,\u001b[0m \u001b[1;34m\"Modern\"\u001b[0m\u001b[1;33m,\u001b[0m \u001b[1;34m\"Wood\"\u001b[0m\u001b[1;33m,\u001b[0m \u001b[1;34m\"Cardboard\"\u001b[0m\u001b[1;33m]\u001b[0m\u001b[1;33m,\u001b[0m\u001b[1;33m\u001b[0m\u001b[1;33m\u001b[0m\u001b[0m\n\u001b[0;32m      4\u001b[0m     \u001b[1;34m\"Price\"\u001b[0m\u001b[1;33m:\u001b[0m \u001b[1;33m[\u001b[0m\u001b[1;36m15.00\u001b[0m\u001b[1;33m,\u001b[0m \u001b[1;36m12.50\u001b[0m\u001b[1;33m,\u001b[0m \u001b[1;36m10.00\u001b[0m\u001b[1;33m,\u001b[0m \u001b[1;36m5.00\u001b[0m\u001b[1;33m,\u001b[0m \u001b[1;36m1.00\u001b[0m\u001b[1;33m]\u001b[0m\u001b[1;33m,\u001b[0m\u001b[1;33m\u001b[0m\u001b[1;33m\u001b[0m\u001b[0m\n\u001b[0;32m      5\u001b[0m     \u001b[1;34m\"Sales\"\u001b[0m\u001b[1;33m:\u001b[0m \u001b[1;33m[\u001b[0m\u001b[1;36m100\u001b[0m\u001b[1;33m,\u001b[0m \u001b[1;36m200\u001b[0m\u001b[1;33m,\u001b[0m \u001b[1;36m150\u001b[0m\u001b[1;33m,\u001b[0m \u001b[1;36m300\u001b[0m\u001b[1;33m,\u001b[0m \u001b[1;34m\"N/A\"\u001b[0m\u001b[1;33m]\u001b[0m\u001b[1;33m\u001b[0m\u001b[1;33m\u001b[0m\u001b[0m\n",
      "\u001b[1;31mNameError\u001b[0m: name 'pd' is not defined"
     ]
    }
   ],
   "source": [
    "# Create a DataFrame of frames using a dictionary of lists\n",
    "frame_df = pd.DataFrame({\n",
    "    \"Frame\": [\"Ornate\", \"Classical\", \"Modern\", \"Wood\", \"Cardboard\"],\n",
    "    \"Price\": [15.00, 12.50, 10.00, 5.00, 1.00],\n",
    "    \"Sales\": [100, 200, 150, 300, \"N/A\"]\n",
    "})\n",
    "frame_df"
   ]
  },
  {
   "cell_type": "code",
   "execution_count": 1,
   "metadata": {},
   "outputs": [
    {
     "ename": "NameError",
     "evalue": "name 'pd' is not defined",
     "output_type": "error",
     "traceback": [
      "\u001b[1;31m---------------------------------------------------------------------------\u001b[0m",
      "\u001b[1;31mNameError\u001b[0m                                 Traceback (most recent call last)",
      "\u001b[1;32m<ipython-input-1-fcf484df6a0a>\u001b[0m in \u001b[0;36m<module>\u001b[1;34m\u001b[0m\n\u001b[0;32m      1\u001b[0m \u001b[1;31m# Create a DataFrame of paintings using a list of dictionaries\u001b[0m\u001b[1;33m\u001b[0m\u001b[1;33m\u001b[0m\u001b[1;33m\u001b[0m\u001b[0m\n\u001b[1;32m----> 2\u001b[1;33m painting_df = pd.DataFrame([\n\u001b[0m\u001b[0;32m      3\u001b[0m     {\"Painting\": \"Mona Lisa (Knockoff)\", \"Price\": 25,\n\u001b[0;32m      4\u001b[0m      \"Popularity\": \"Very Popular\"},\n\u001b[0;32m      5\u001b[0m     \u001b[1;33m{\u001b[0m\u001b[1;34m\"Painting\"\u001b[0m\u001b[1;33m:\u001b[0m \u001b[1;34m\"Van Gogh (Knockoff)\"\u001b[0m\u001b[1;33m,\u001b[0m \u001b[1;34m\"Price\"\u001b[0m\u001b[1;33m:\u001b[0m \u001b[1;36m20\u001b[0m\u001b[1;33m,\u001b[0m \u001b[1;34m\"Popularity\"\u001b[0m\u001b[1;33m:\u001b[0m \u001b[1;34m\"Popular\"\u001b[0m\u001b[1;33m}\u001b[0m\u001b[1;33m,\u001b[0m\u001b[1;33m\u001b[0m\u001b[1;33m\u001b[0m\u001b[0m\n",
      "\u001b[1;31mNameError\u001b[0m: name 'pd' is not defined"
     ]
    }
   ],
   "source": [
    "# Create a DataFrame of paintings using a list of dictionaries\n",
    "painting_df = pd.DataFrame([\n",
    "    {\"Painting\": \"Mona Lisa (Knockoff)\", \"Price\": 25,\n",
    "     \"Popularity\": \"Very Popular\"},\n",
    "    {\"Painting\": \"Van Gogh (Knockoff)\", \"Price\": 20, \"Popularity\": \"Popular\"},\n",
    "    {\"Painting\": \"Starving Artist\", \"Price\": 10, \"Popularity\": \"Average\"},\n",
    "    {\"Painting\": \"Toddler Drawing\", \"Price\": 1, \"Popularity\": \"Not Popular\"}\n",
    "])\n",
    "painting_df"
   ]
  },
  {
   "cell_type": "code",
   "execution_count": null,
   "metadata": {},
   "outputs": [],
   "source": []
  }
 ],
 "metadata": {
  "kernelspec": {
   "display_name": "Python 36 (PyhthonData)",
   "language": "python",
   "name": "pythondata"
  },
  "language_info": {
   "codemirror_mode": {
    "name": "ipython",
    "version": 3
   },
   "file_extension": ".py",
   "mimetype": "text/x-python",
   "name": "python",
   "nbconvert_exporter": "python",
   "pygments_lexer": "ipython3",
   "version": "3.7.3"
  }
 },
 "nbformat": 4,
 "nbformat_minor": 2
}
