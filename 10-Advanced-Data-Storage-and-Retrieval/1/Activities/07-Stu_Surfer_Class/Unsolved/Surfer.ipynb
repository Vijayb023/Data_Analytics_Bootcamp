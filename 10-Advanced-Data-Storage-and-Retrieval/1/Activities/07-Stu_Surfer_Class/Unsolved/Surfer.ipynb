{
 "cells": [
  {
   "cell_type": "code",
   "execution_count": 11,
   "metadata": {},
   "outputs": [],
   "source": [
    "# Define the Surfer Class\n",
    "class surfer():\n",
    "   def __init__(self, name, hometown, rank):\n",
    "        self.name = name \n",
    "        self.hometown = hometown\n",
    "        self.rank = rank "
   ]
  },
  {
   "cell_type": "code",
   "execution_count": 12,
   "metadata": {},
   "outputs": [],
   "source": [
    "# Create an instance of the Surfer Class\n",
    "    Surfer = surfer('Vijay','Atlanta',1)"
   ]
  },
  {
   "cell_type": "code",
   "execution_count": 13,
   "metadata": {},
   "outputs": [
    {
     "name": "stdout",
     "output_type": "stream",
     "text": [
      "Vijay\n",
      "Atlanta\n",
      "1\n"
     ]
    }
   ],
   "source": [
    "# Print the object's attributes\n",
    "print(Surfer.name)\n",
    "print(Surfer.hometown)\n",
    "print(Surfer.rank)"
   ]
  },
  {
   "cell_type": "code",
   "execution_count": null,
   "metadata": {},
   "outputs": [],
   "source": [
    "# ----BONUS----\n",
    "# Variable to keep track of changes to while loop\n",
    "go = True\n",
    "\n",
    "while go:\n",
    "\n",
    "  name = input(\"What is the surfer's name? \")\n",
    "  hometown = input(\"What is the surfer's hometown? \")\n",
    "  rank = int(input(\"What is the surfer's rank? \"))\n",
    "  \n",
    "  surfer = Surfer(name, hometown, rank)\n",
    "\n",
    "  print(surfer.name)\n",
    "  print(surfer.hometown)\n",
    "  print(surfer.rank)\n",
    "\n",
    "  check = input(\"Would you like to continue? (y/n) \")\n",
    "  if(check.lower() == \"y\"):\n",
    "    go = True\n",
    "  else:\n",
    "    go = False"
   ]
  },
  {
   "cell_type": "code",
   "execution_count": null,
   "metadata": {},
   "outputs": [],
   "source": []
  }
 ],
 "metadata": {
  "kernelspec": {
   "display_name": "Python 36(PythonData)",
   "language": "python",
   "name": "pythondata"
  },
  "language_info": {
   "codemirror_mode": {
    "name": "ipython",
    "version": 3
   },
   "file_extension": ".py",
   "mimetype": "text/x-python",
   "name": "python",
   "nbconvert_exporter": "python",
   "pygments_lexer": "ipython3",
   "version": "3.6.8"
  },
  "varInspector": {
   "cols": {
    "lenName": 16,
    "lenType": 16,
    "lenVar": 40
   },
   "kernels_config": {
    "python": {
     "delete_cmd_postfix": "",
     "delete_cmd_prefix": "del ",
     "library": "var_list.py",
     "varRefreshCmd": "print(var_dic_list())"
    },
    "r": {
     "delete_cmd_postfix": ") ",
     "delete_cmd_prefix": "rm(",
     "library": "var_list.r",
     "varRefreshCmd": "cat(var_dic_list()) "
    }
   },
   "types_to_exclude": [
    "module",
    "function",
    "builtin_function_or_method",
    "instance",
    "_Feature"
   ],
   "window_display": false
  }
 },
 "nbformat": 4,
 "nbformat_minor": 2
}
