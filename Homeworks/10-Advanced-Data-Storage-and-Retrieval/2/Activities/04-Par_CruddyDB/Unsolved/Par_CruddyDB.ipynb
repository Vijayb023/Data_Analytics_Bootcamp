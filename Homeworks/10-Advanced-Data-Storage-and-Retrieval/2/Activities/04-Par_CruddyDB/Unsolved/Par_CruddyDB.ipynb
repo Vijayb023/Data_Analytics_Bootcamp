{
 "cells": [
  {
   "cell_type": "code",
   "execution_count": 1,
   "metadata": {},
   "outputs": [],
   "source": [
    "# Import SQL Alchemy\n",
    "from sqlalchemy import create_engine\n",
    "\n",
    "# Import and establish Base for which classes will be constructed \n",
    "from sqlalchemy.ext.declarative import declarative_base\n",
    "Base = declarative_base()\n",
    "\n",
    "# Import modules to declare columns and column data types\n",
    "from sqlalchemy import Column, Integer, String, Float"
   ]
  },
  {
   "cell_type": "code",
   "execution_count": 2,
   "metadata": {
    "deletable": false,
    "nbgrader": {
     "checksum": "8af1cb904695d814b2f78e98ad1e76d6",
     "grade": false,
     "grade_id": "cell-55d75c21dbb2c337",
     "locked": false,
     "schema_version": 1,
     "solution": true
    }
   },
   "outputs": [],
   "source": [
    "# Create the Garbage class\n",
    "# YOUR CODE HERE\n",
    "class Garbage(Base):\n",
    "    __tablename__ = 'garbage_collection'\n",
    "    id = Column(Integer, primary_key=True)\n",
    "    item = Column(String(255))\n",
    "    weight = Column(Float)\n",
    "    collector = Column(String(255))\n"
   ]
  },
  {
   "cell_type": "code",
   "execution_count": 3,
   "metadata": {
    "deletable": false,
    "nbgrader": {
     "checksum": "59c29987b266a9c395699d181bb087a6",
     "grade": false,
     "grade_id": "cell-4230ec6995aad3fd",
     "locked": false,
     "schema_version": 1,
     "solution": true
    }
   },
   "outputs": [],
   "source": [
    "# Create a connection to a SQLite database\n",
    "# YOUR CODE HERE\n",
    "engine = create_engine('sqlite:///garbage.db')"
   ]
  },
  {
   "cell_type": "code",
   "execution_count": 4,
   "metadata": {},
   "outputs": [],
   "source": [
    "# Create the garbage_collection table within the database\n",
    "Base.metadata.create_all(engine)"
   ]
  },
  {
   "cell_type": "code",
   "execution_count": 5,
   "metadata": {},
   "outputs": [],
   "source": [
    "# To push the objects made and query the server we use a Session object\n",
    "from sqlalchemy.orm import Session\n",
    "session = Session(bind=engine)"
   ]
  },
  {
   "cell_type": "code",
   "execution_count": 6,
   "metadata": {
    "deletable": false,
    "nbgrader": {
     "checksum": "eea32595c61b7a5ae6d9d0e22b1d18df",
     "grade": false,
     "grade_id": "cell-544743e14f0f9a25",
     "locked": false,
     "schema_version": 1,
     "solution": true
    }
   },
   "outputs": [],
   "source": [
    "# Create some instances of the Garbage class\n",
    "# YOUR CODE HERE\n",
    "garbage_one = Garbage(item=\"iphone\", weight=90.5, collector=\"Vijay\")\n",
    "garbage_two = Garbage(item=\"Broken TV\", weight=10.75, collector=\"roopa\")\n",
    "garbage_three = Garbage(item=\"Burger\", weight=0.55, collector=\"Phil\")\n"
   ]
  },
  {
   "cell_type": "code",
   "execution_count": 7,
   "metadata": {
    "deletable": false,
    "nbgrader": {
     "checksum": "2e13e07533fce1b94f2693a49958066b",
     "grade": false,
     "grade_id": "cell-7ead20b8cbdbfb73",
     "locked": false,
     "schema_version": 1,
     "solution": true
    }
   },
   "outputs": [],
   "source": [
    "# Add these objects to the session\n",
    "# YOUR CODE HERE\n",
    "session.add(garbage_one)\n",
    "session.add(garbage_two)\n",
    "session.add(garbage_three)\n",
    "# Commit the objects to the database\n",
    "session.commit()\n"
   ]
  },
  {
   "cell_type": "code",
   "execution_count": 8,
   "metadata": {
    "deletable": false,
    "nbgrader": {
     "checksum": "d4a7717476260b79dd53ffdcee0b352e",
     "grade": false,
     "grade_id": "cell-a66cda367a0b1515",
     "locked": false,
     "schema_version": 1,
     "solution": true
    }
   },
   "outputs": [],
   "source": [
    "# Update two rows of data\n",
    "# YOUR CODE HERE\n",
    "update_one = session.query(Garbage).filter(Garbage.id == 1).first()\n",
    "update_one.collector = \"Vijay\"\n",
    "update_two = session.query(Garbage).filter(Garbage.id == 2).first()\n",
    "update_two.weight = 15.98\n",
    "# Commit the updates to the database\n",
    "session.commit()\n"
   ]
  },
  {
   "cell_type": "code",
   "execution_count": 9,
   "metadata": {
    "deletable": false,
    "nbgrader": {
     "checksum": "fc1a996c75d8d3b91c9f7d1c7a74feee",
     "grade": false,
     "grade_id": "cell-2cee82afd03d3679",
     "locked": false,
     "schema_version": 1,
     "solution": true
    }
   },
   "outputs": [],
   "source": [
    "# Delete the row with the lowest weight\n",
    "# YOUR CODE HERE\n",
    "session.query(Garbage).filter(Garbage.id == 3).delete()\n",
    "# Commit the delete to the database\n",
    "session.commit()\n"
   ]
  },
  {
   "cell_type": "code",
   "execution_count": 10,
   "metadata": {
    "deletable": false,
    "nbgrader": {
     "checksum": "ecc333c6906d189152b758d27e331e36",
     "grade": false,
     "grade_id": "cell-23672c755f55dd5d",
     "locked": false,
     "schema_version": 1,
     "solution": true
    }
   },
   "outputs": [
    {
     "name": "stdout",
     "output_type": "stream",
     "text": [
      "------------\n",
      "id: 1\n",
      "item: Sofa\n",
      "weight: 90.5\n",
      "collector: Vijay\n",
      "------------\n",
      "id: 2\n",
      "item: Broken TV\n",
      "weight: 15.98\n",
      "collector: Paul\n",
      "------------\n",
      "id: 4\n",
      "item: Broken TV\n",
      "weight: 10.75\n",
      "collector: Paul\n",
      "------------\n",
      "id: 5\n",
      "item: Burger\n",
      "weight: 0.55\n",
      "collector: Phil\n",
      "------------\n",
      "id: 6\n",
      "item: Sofa\n",
      "weight: 90.5\n",
      "collector: Vijay\n",
      "------------\n",
      "id: 7\n",
      "item: Broken TV\n",
      "weight: 10.75\n",
      "collector: Paul\n",
      "------------\n",
      "id: 8\n",
      "item: Burger\n",
      "weight: 0.55\n",
      "collector: Phil\n",
      "------------\n",
      "id: 9\n",
      "item: iphone\n",
      "weight: 90.5\n",
      "collector: Vijay\n",
      "------------\n",
      "id: 10\n",
      "item: Broken TV\n",
      "weight: 10.75\n",
      "collector: roopa\n",
      "------------\n",
      "id: 11\n",
      "item: Burger\n",
      "weight: 0.55\n",
      "collector: Phil\n",
      "------------\n",
      "id: 12\n",
      "item: iphone\n",
      "weight: 90.5\n",
      "collector: Vijay\n",
      "------------\n",
      "id: 13\n",
      "item: Broken TV\n",
      "weight: 10.75\n",
      "collector: roopa\n",
      "------------\n",
      "id: 14\n",
      "item: Burger\n",
      "weight: 0.55\n",
      "collector: Phil\n"
     ]
    }
   ],
   "source": [
    "# Collect all of the items and print their information\n",
    "# YOUR CODE HERE\n",
    "items = session.query(Garbage)\n",
    "for item in items:\n",
    "    print(\"-\"*12)\n",
    "    print(f\"id: {item.id}\")\n",
    "    print(f\"item: {item.item}\")\n",
    "    print(f\"weight: {item.weight}\")\n",
    "    print(f\"collector: {item.collector}\")\n",
    "   "
   ]
  },
  {
   "cell_type": "code",
   "execution_count": null,
   "metadata": {},
   "outputs": [],
   "source": []
  },
  {
   "cell_type": "code",
   "execution_count": null,
   "metadata": {},
   "outputs": [],
   "source": []
  },
  {
   "cell_type": "code",
   "execution_count": null,
   "metadata": {},
   "outputs": [],
   "source": []
  },
  {
   "cell_type": "code",
   "execution_count": null,
   "metadata": {},
   "outputs": [],
   "source": []
  }
 ],
 "metadata": {
  "kernelspec": {
   "display_name": "Python 36(PythonData)",
   "language": "python",
   "name": "pythondata"
  },
  "language_info": {
   "codemirror_mode": {
    "name": "ipython",
    "version": 3
   },
   "file_extension": ".py",
   "mimetype": "text/x-python",
   "name": "python",
   "nbconvert_exporter": "python",
   "pygments_lexer": "ipython3",
   "version": "3.6.8"
  },
  "varInspector": {
   "cols": {
    "lenName": 16,
    "lenType": 16,
    "lenVar": 40
   },
   "kernels_config": {
    "python": {
     "delete_cmd_postfix": "",
     "delete_cmd_prefix": "del ",
     "library": "var_list.py",
     "varRefreshCmd": "print(var_dic_list())"
    },
    "r": {
     "delete_cmd_postfix": ") ",
     "delete_cmd_prefix": "rm(",
     "library": "var_list.r",
     "varRefreshCmd": "cat(var_dic_list()) "
    }
   },
   "types_to_exclude": [
    "module",
    "function",
    "builtin_function_or_method",
    "instance",
    "_Feature"
   ],
   "window_display": false
  }
 },
 "nbformat": 4,
 "nbformat_minor": 2
}
