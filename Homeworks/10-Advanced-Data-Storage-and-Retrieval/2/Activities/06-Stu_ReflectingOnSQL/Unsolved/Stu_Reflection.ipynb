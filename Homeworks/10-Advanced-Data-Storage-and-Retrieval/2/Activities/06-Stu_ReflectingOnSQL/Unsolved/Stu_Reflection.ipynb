{
 "cells": [
  {
   "cell_type": "code",
   "execution_count": 34,
   "metadata": {},
   "outputs": [],
   "source": [
    "# Python SQL toolkit and Object Relational Mapper\n",
    "import sqlalchemy\n",
    "from sqlalchemy.ext.automap import automap_base\n",
    "from sqlalchemy.orm import Session\n",
    "from sqlalchemy import create_engine\n",
    "import pandas as pd"
   ]
  },
  {
   "cell_type": "code",
   "execution_count": 35,
   "metadata": {
    "deletable": false,
    "nbgrader": {
     "checksum": "030fdebd2b41a38aa27cabf7a6e16b9f",
     "grade": false,
     "grade_id": "cell-70673a582be08b2b",
     "locked": false,
     "schema_version": 1,
     "solution": true
    }
   },
   "outputs": [],
   "source": [
    "# Create engine using the `demographics.sqlite` database file\n",
    "engine = create_engine(\"sqlite:///../Resources/demographics.sqlite\")"
   ]
  },
  {
   "cell_type": "code",
   "execution_count": 36,
   "metadata": {
    "deletable": false,
    "nbgrader": {
     "checksum": "5158acd21546a6dfb59c5237e8eef7b3",
     "grade": false,
     "grade_id": "cell-41aa0b6e080b0fc3",
     "locked": false,
     "schema_version": 1,
     "solution": true
    }
   },
   "outputs": [],
   "source": [
    "# Declare a Base using `automap_base()`\n",
    "# YOUR CODE HERE\n",
    "Base= automap_base()"
   ]
  },
  {
   "cell_type": "code",
   "execution_count": 37,
   "metadata": {
    "deletable": false,
    "nbgrader": {
     "checksum": "4cf9ccdf62b4c7dde67986fc286db32f",
     "grade": false,
     "grade_id": "cell-6bfc53d06684937a",
     "locked": false,
     "schema_version": 1,
     "solution": true
    }
   },
   "outputs": [],
   "source": [
    "# Use the Base class to reflect the database tables\n",
    "# YOUR CODE HERE\n",
    "Base.prepare(engine, reflect=True)"
   ]
  },
  {
   "cell_type": "code",
   "execution_count": 38,
   "metadata": {
    "deletable": false,
    "nbgrader": {
     "checksum": "120325f817ac4e85c340183eb65373d4",
     "grade": false,
     "grade_id": "cell-ed6e858f1d08dd99",
     "locked": false,
     "schema_version": 1,
     "solution": true
    }
   },
   "outputs": [
    {
     "data": {
      "text/plain": [
       "['demographics']"
      ]
     },
     "execution_count": 38,
     "metadata": {},
     "output_type": "execute_result"
    }
   ],
   "source": [
    "# Print all of the classes mapped to the Base\n",
    "# YOUR CODE HERE\n",
    "Base.classes.keys()"
   ]
  },
  {
   "cell_type": "code",
   "execution_count": 39,
   "metadata": {
    "deletable": false,
    "nbgrader": {
     "checksum": "3c6359b28d1377dcd8eef0bb8d386a4d",
     "grade": false,
     "grade_id": "cell-8efa4b315fdfc079",
     "locked": false,
     "schema_version": 1,
     "solution": true
    }
   },
   "outputs": [],
   "source": [
    "# Assign the demographics class to a variable called `Demographics`\n",
    "# YOUR CODE HERE\n",
    "demo = Base.classes.demographics"
   ]
  },
  {
   "cell_type": "code",
   "execution_count": 40,
   "metadata": {
    "deletable": false,
    "nbgrader": {
     "checksum": "476a5b0a2a5223dd59d86831d245e86c",
     "grade": false,
     "grade_id": "cell-490b4263c4872970",
     "locked": false,
     "schema_version": 1,
     "solution": true
    }
   },
   "outputs": [],
   "source": [
    "# Create a session\n",
    "# YOUR CODE HERE\n",
    "session = Session(engine)"
   ]
  },
  {
   "cell_type": "code",
   "execution_count": 62,
   "metadata": {
    "deletable": false,
    "nbgrader": {
     "checksum": "62e2eefec8bad4b8d01519d296130e0f",
     "grade": false,
     "grade_id": "cell-9ec67a4806a1b9d2",
     "locked": false,
     "schema_version": 1,
     "solution": true
    }
   },
   "outputs": [
    {
     "name": "stdout",
     "output_type": "stream",
     "text": [
      "SELECT demographics.id AS demographics_id, demographics.age AS demographics_age, demographics.height_meter AS demographics_height_meter, demographics.weight_kg AS demographics_weight_kg, demographics.children AS demographics_children, demographics.occupation AS demographics_occupation, demographics.academic_degree AS demographics_academic_degree, demographics.salary AS demographics_salary, demographics.location AS demographics_location \n",
      "FROM demographics\n"
     ]
    }
   ],
   "source": [
    "# Use the session to query Demographics table and display the first 5 locations\n",
    "# YOUR CODE HERE\n",
    "first_row = session.query(demo).first()\n",
    "all = session.query(demo)\n",
    "print(all)"
   ]
  },
  {
   "cell_type": "code",
   "execution_count": 59,
   "metadata": {},
   "outputs": [
    {
     "data": {
      "text/plain": [
       "'SELECT demographics.location \\nFROM demographics'"
      ]
     },
     "execution_count": 59,
     "metadata": {},
     "output_type": "execute_result"
    }
   ],
   "source": [
    "str(session.query(demo.location).statement)"
   ]
  },
  {
   "cell_type": "code",
   "execution_count": 42,
   "metadata": {},
   "outputs": [
    {
     "name": "stdout",
     "output_type": "stream",
     "text": [
      "('South Dakota',)\n",
      "('Delaware',)\n",
      "('South Dakota',)\n",
      "('Louisiana',)\n",
      "('West Virginia',)\n"
     ]
    }
   ],
   "source": [
    "for row in session.query(demo.location).limit(5).all():\n",
    "    print(row)"
   ]
  },
  {
   "cell_type": "code",
   "execution_count": 43,
   "metadata": {
    "deletable": false,
    "nbgrader": {
     "checksum": "a6cc46421b79f087e7d79d9376bb37df",
     "grade": false,
     "grade_id": "cell-48bb7af3e19c67ac",
     "locked": false,
     "schema_version": 1,
     "solution": true
    }
   },
   "outputs": [
    {
     "name": "stdout",
     "output_type": "stream",
     "text": [
      "5\n"
     ]
    }
   ],
   "source": [
    "# BONUS: Query and print the number of unique Locations\n",
    "# Hints: Look into counting and grouping operations in SQLAlchemy\n",
    "# YOUR CODE HERE\n",
    "locations = session.query(demo).group_by(demo.location).count()\n",
    "print(locations)"
   ]
  },
  {
   "cell_type": "code",
   "execution_count": 67,
   "metadata": {},
   "outputs": [
    {
     "data": {
      "text/plain": [
       "'SELECT demographics.id, demographics.age, demographics.height_meter, demographics.weight_kg, demographics.children, demographics.occupation, demographics.academic_degree, demographics.salary, demographics.location \\nFROM demographics'"
      ]
     },
     "execution_count": 67,
     "metadata": {},
     "output_type": "execute_result"
    }
   ],
   "source": [
    "str(all.statement)"
   ]
  },
  {
   "cell_type": "code",
   "execution_count": 66,
   "metadata": {},
   "outputs": [
    {
     "data": {
      "text/html": [
       "<div>\n",
       "<style scoped>\n",
       "    .dataframe tbody tr th:only-of-type {\n",
       "        vertical-align: middle;\n",
       "    }\n",
       "\n",
       "    .dataframe tbody tr th {\n",
       "        vertical-align: top;\n",
       "    }\n",
       "\n",
       "    .dataframe thead th {\n",
       "        text-align: right;\n",
       "    }\n",
       "</style>\n",
       "<table border=\"1\" class=\"dataframe\">\n",
       "  <thead>\n",
       "    <tr style=\"text-align: right;\">\n",
       "      <th></th>\n",
       "      <th>id</th>\n",
       "      <th>age</th>\n",
       "      <th>height_meter</th>\n",
       "      <th>weight_kg</th>\n",
       "      <th>children</th>\n",
       "      <th>occupation</th>\n",
       "      <th>academic_degree</th>\n",
       "      <th>salary</th>\n",
       "      <th>location</th>\n",
       "    </tr>\n",
       "  </thead>\n",
       "  <tbody>\n",
       "    <tr>\n",
       "      <th>0</th>\n",
       "      <td>0</td>\n",
       "      <td>58</td>\n",
       "      <td>1.87</td>\n",
       "      <td>53.0</td>\n",
       "      <td>1</td>\n",
       "      <td>Choreographer</td>\n",
       "      <td>PhD</td>\n",
       "      <td>68</td>\n",
       "      <td>South Dakota</td>\n",
       "    </tr>\n",
       "    <tr>\n",
       "      <th>1</th>\n",
       "      <td>1</td>\n",
       "      <td>65</td>\n",
       "      <td>1.80</td>\n",
       "      <td>40.0</td>\n",
       "      <td>0</td>\n",
       "      <td>Cellarman</td>\n",
       "      <td>Bachelor</td>\n",
       "      <td>73</td>\n",
       "      <td>Delaware</td>\n",
       "    </tr>\n",
       "    <tr>\n",
       "      <th>2</th>\n",
       "      <td>2</td>\n",
       "      <td>32</td>\n",
       "      <td>1.80</td>\n",
       "      <td>73.0</td>\n",
       "      <td>1</td>\n",
       "      <td>Veterinary Surgeon</td>\n",
       "      <td>Master</td>\n",
       "      <td>69</td>\n",
       "      <td>South Dakota</td>\n",
       "    </tr>\n",
       "    <tr>\n",
       "      <th>3</th>\n",
       "      <td>3</td>\n",
       "      <td>61</td>\n",
       "      <td>1.79</td>\n",
       "      <td>89.0</td>\n",
       "      <td>0</td>\n",
       "      <td>Hawker</td>\n",
       "      <td>PhD</td>\n",
       "      <td>88</td>\n",
       "      <td>Louisiana</td>\n",
       "    </tr>\n",
       "    <tr>\n",
       "      <th>4</th>\n",
       "      <td>4</td>\n",
       "      <td>23</td>\n",
       "      <td>1.64</td>\n",
       "      <td>51.0</td>\n",
       "      <td>2</td>\n",
       "      <td>Choreographer</td>\n",
       "      <td>Bachelor</td>\n",
       "      <td>83</td>\n",
       "      <td>West Virginia</td>\n",
       "    </tr>\n",
       "  </tbody>\n",
       "</table>\n",
       "</div>"
      ],
      "text/plain": [
       "   id  age  height_meter  weight_kg  children          occupation  \\\n",
       "0   0   58          1.87       53.0         1       Choreographer   \n",
       "1   1   65          1.80       40.0         0           Cellarman   \n",
       "2   2   32          1.80       73.0         1  Veterinary Surgeon   \n",
       "3   3   61          1.79       89.0         0              Hawker   \n",
       "4   4   23          1.64       51.0         2       Choreographer   \n",
       "\n",
       "  academic_degree  salary       location  \n",
       "0             PhD      68   South Dakota  \n",
       "1        Bachelor      73       Delaware  \n",
       "2          Master      69   South Dakota  \n",
       "3             PhD      88      Louisiana  \n",
       "4        Bachelor      83  West Virginia  "
      ]
     },
     "execution_count": 66,
     "metadata": {},
     "output_type": "execute_result"
    }
   ],
   "source": [
    "alldf=pd.read_sql(all.statement, session.bind)\n",
    "alldf.head()"
   ]
  },
  {
   "cell_type": "code",
   "execution_count": 68,
   "metadata": {},
   "outputs": [
    {
     "data": {
      "text/html": [
       "<div>\n",
       "<style scoped>\n",
       "    .dataframe tbody tr th:only-of-type {\n",
       "        vertical-align: middle;\n",
       "    }\n",
       "\n",
       "    .dataframe tbody tr th {\n",
       "        vertical-align: top;\n",
       "    }\n",
       "\n",
       "    .dataframe thead th {\n",
       "        text-align: right;\n",
       "    }\n",
       "</style>\n",
       "<table border=\"1\" class=\"dataframe\">\n",
       "  <thead>\n",
       "    <tr style=\"text-align: right;\">\n",
       "      <th></th>\n",
       "      <th>id</th>\n",
       "      <th>age</th>\n",
       "      <th>height_meter</th>\n",
       "      <th>weight_kg</th>\n",
       "      <th>children</th>\n",
       "      <th>occupation</th>\n",
       "      <th>academic_degree</th>\n",
       "      <th>salary</th>\n",
       "      <th>location</th>\n",
       "    </tr>\n",
       "  </thead>\n",
       "  <tbody>\n",
       "    <tr>\n",
       "      <th>0</th>\n",
       "      <td>0</td>\n",
       "      <td>58</td>\n",
       "      <td>1.87</td>\n",
       "      <td>53.0</td>\n",
       "      <td>1</td>\n",
       "      <td>Choreographer</td>\n",
       "      <td>PhD</td>\n",
       "      <td>68</td>\n",
       "      <td>South Dakota</td>\n",
       "    </tr>\n",
       "    <tr>\n",
       "      <th>1</th>\n",
       "      <td>1</td>\n",
       "      <td>65</td>\n",
       "      <td>1.80</td>\n",
       "      <td>40.0</td>\n",
       "      <td>0</td>\n",
       "      <td>Cellarman</td>\n",
       "      <td>Bachelor</td>\n",
       "      <td>73</td>\n",
       "      <td>Delaware</td>\n",
       "    </tr>\n",
       "    <tr>\n",
       "      <th>2</th>\n",
       "      <td>2</td>\n",
       "      <td>32</td>\n",
       "      <td>1.80</td>\n",
       "      <td>73.0</td>\n",
       "      <td>1</td>\n",
       "      <td>Veterinary Surgeon</td>\n",
       "      <td>Master</td>\n",
       "      <td>69</td>\n",
       "      <td>South Dakota</td>\n",
       "    </tr>\n",
       "    <tr>\n",
       "      <th>3</th>\n",
       "      <td>3</td>\n",
       "      <td>61</td>\n",
       "      <td>1.79</td>\n",
       "      <td>89.0</td>\n",
       "      <td>0</td>\n",
       "      <td>Hawker</td>\n",
       "      <td>PhD</td>\n",
       "      <td>88</td>\n",
       "      <td>Louisiana</td>\n",
       "    </tr>\n",
       "    <tr>\n",
       "      <th>4</th>\n",
       "      <td>4</td>\n",
       "      <td>23</td>\n",
       "      <td>1.64</td>\n",
       "      <td>51.0</td>\n",
       "      <td>2</td>\n",
       "      <td>Choreographer</td>\n",
       "      <td>Bachelor</td>\n",
       "      <td>83</td>\n",
       "      <td>West Virginia</td>\n",
       "    </tr>\n",
       "  </tbody>\n",
       "</table>\n",
       "</div>"
      ],
      "text/plain": [
       "   id  age  height_meter  weight_kg  children          occupation  \\\n",
       "0   0   58          1.87       53.0         1       Choreographer   \n",
       "1   1   65          1.80       40.0         0           Cellarman   \n",
       "2   2   32          1.80       73.0         1  Veterinary Surgeon   \n",
       "3   3   61          1.79       89.0         0              Hawker   \n",
       "4   4   23          1.64       51.0         2       Choreographer   \n",
       "\n",
       "  academic_degree  salary       location  \n",
       "0             PhD      68   South Dakota  \n",
       "1        Bachelor      73       Delaware  \n",
       "2          Master      69   South Dakota  \n",
       "3             PhD      88      Louisiana  \n",
       "4        Bachelor      83  West Virginia  "
      ]
     },
     "execution_count": 68,
     "metadata": {},
     "output_type": "execute_result"
    }
   ],
   "source": [
    "### SHOWING STRING\n",
    "alldf=pd.read_sql('SELECT demographics.id, demographics.age, demographics.height_meter, demographics.weight_kg, demographics.children, demographics.occupation, demographics.academic_degree, demographics.salary, demographics.location \\nFROM demographics', session.bind)\n",
    "alldf.head()"
   ]
  },
  {
   "cell_type": "code",
   "execution_count": null,
   "metadata": {},
   "outputs": [],
   "source": []
  }
 ],
 "metadata": {
  "kernelspec": {
   "display_name": "Python 36(PythonData)",
   "language": "python",
   "name": "pythondata"
  },
  "language_info": {
   "codemirror_mode": {
    "name": "ipython",
    "version": 3
   },
   "file_extension": ".py",
   "mimetype": "text/x-python",
   "name": "python",
   "nbconvert_exporter": "python",
   "pygments_lexer": "ipython3",
   "version": "3.6.8"
  },
  "varInspector": {
   "cols": {
    "lenName": 16,
    "lenType": 16,
    "lenVar": 40
   },
   "kernels_config": {
    "python": {
     "delete_cmd_postfix": "",
     "delete_cmd_prefix": "del ",
     "library": "var_list.py",
     "varRefreshCmd": "print(var_dic_list())"
    },
    "r": {
     "delete_cmd_postfix": ") ",
     "delete_cmd_prefix": "rm(",
     "library": "var_list.r",
     "varRefreshCmd": "cat(var_dic_list()) "
    }
   },
   "types_to_exclude": [
    "module",
    "function",
    "builtin_function_or_method",
    "instance",
    "_Feature"
   ],
   "window_display": false
  }
 },
 "nbformat": 4,
 "nbformat_minor": 2
}
